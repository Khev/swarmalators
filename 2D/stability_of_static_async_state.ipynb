{
 "cells": [
  {
   "cell_type": "markdown",
   "metadata": {},
   "source": [
    "# Introduction\n",
    "\n",
    "Here I'm exploring the transition from the static async state to the active phase wave state. I'm plotting various quantities, and seeing where they bifurcate. This is to evaulate my approximation $K_c = -1.2 J$ -- equation (18) in the paper https://www.nature.com/articles/s41467-017-01190-3.\n",
    "\n",
    "Specifically, I'm looking at the order parameter S = max(S^+, S^-), which should bifurcate from zero when transition from the static async state (see paper for why). Also, since the swarmalators are stationary in the static async state, it should bifurcate from zero when S does too. Lastly, the radii of the support of the spatial densities of the swarmaltors should change as the S.A. static is left. \n",
    "\n",
    "\n",
    "### Things to try in future\n",
    "\n",
    "Adding noise (in both the $\\dot{\\theta}$ and $\\dot{\\vec{x}}$) equations should stabilize the async state. I should (a) run numerical experiments with noise added in, and (b) redo the analysis. Regarding (b), this should be easy to do when phase noise (noise in the $\\dot{\\theta}$ equation) is added, since the the spatial velocity of the swarmalators should still be zero in this case, and so the density is still $\\rho_{async} = \\frac{1}{ 4 \\pi^2} g(r)$ for $r < R_{async}$ (see equations (5) and (6) in the paper).\n",
    "\n",
    "If spatial noise is added, then $\\rho_{async} \\neq \\frac{1}{ 4 \\pi^2} g(r)$, and so the stability analysis is much harder.\n",
    "\n",
    "\n",
    "### Preamble"
   ]
  },
  {
   "cell_type": "code",
   "execution_count": 15,
   "metadata": {
    "collapsed": true
   },
   "outputs": [],
   "source": [
    "import numpy as np\n",
    "import swarmalators_funcs as f\n",
    "import matplotlib.pyplot as plt\n",
    "from scipy.integrate import odeint\n",
    "import time\n",
    "%matplotlib inline\n",
    "from IPython.display import clear_output, display, HTML \n",
    "\n",
    "#this is for an interact-like function later -- comment out if the python complains\n",
    "#from IPython.html.widgets import interact, interactive \n",
    "\n",
    "# Using global variables here (tut tut), to make reading in the data later easier\n",
    "a, dt, T, n, L  = 1, 0.5, 500, 500, 1 \n",
    "\n",
    "# Function that will be passed to the multi-processor\n",
    "def func(pars):\n",
    "\n",
    "    #Define parameters\n",
    "    #a, dt, T, n, L  = 1, 0.5, 500, 100, 1   #I decided to use global variables\n",
    "    t = [dt*i for i in range(int(T/dt))]\n",
    "    np.random.seed(0)\n",
    "    x0 = np.random.uniform(-L,L,n);y0=np.random.uniform(-L,L,n);theta0 = np.random.uniform(-np.pi,np.pi,n)\n",
    "    J, K, omega = pars[0], pars[1], np.zeros(n);\n",
    "\n",
    "    \n",
    "    #Do simulation\n",
    "    tic = time.clock()\n",
    "    z0 = np.array([x0,y0,theta0])\n",
    "    z0 = z0.flatten()\n",
    "    sols = odeint(f.rhs_unit_vector, z0, t, args=(J,K,n,omega))\n",
    "    x, y, theta = f.unpack(sols,n)\n",
    "    r, phi = f.cart_to_polar(x,y)\n",
    "    gamma = f.find_gamma(phi)\n",
    "    v = f.find_vel_t(x,y,theta,dt)\n",
    "    transient_index = int(0.9*x.shape[0])\n",
    "    v_mean = np.mean([np.mean(v[t,:]) for t in range(transient_index,v.shape[0])])\n",
    "    S_plus = np.mean(np.abs(f.find_W_plus(x,y,theta))[transient_index:-1])\n",
    "    S_minus = np.mean(np.abs(f.find_W_minus(x,y,theta))[transient_index:-1])\n",
    "    R_max = np.mean([np.max( np.sqrt(x[t,:]**2 + y[t,:]**2) ) for t in range(x.shape[0])][transient_index:-1])\n",
    "    R_min = np.mean([np.min( np.sqrt(x[t,:]**2 + y[t,:]**2) ) for t in range(x.shape[0])][transient_index:-1])\n",
    "\n",
    "    \n",
    "    #Save to file\n",
    "    string =  'K_' + str(K) + '_J_' + str(J) + '_N_' + str(n) + '_T_' + str(T) + '_dt_' + str(dt) +  '.csv'\n",
    "    with open('data/S_plus_' + string, 'wb') as f1:\n",
    "        np.savetxt(f1, [S_plus])\n",
    "    with open('data/S_minus_' + string, 'wb') as f2:\n",
    "        np.savetxt(f2, [S_minus])\n",
    "    with open('data/v_mean_' + string, 'wb') as f6:\n",
    "        np.savetxt(f6, [v_mean])\n",
    "    with open('data/gamma_' + string, 'wb') as f65:\n",
    "        np.savetxt(f65, np.array([gamma]))\n",
    "    with open('data/R_max_' + string, 'wb') as f7:\n",
    "        np.savetxt(f7, [R_max])\n",
    "    with open('data/R_min_' + string, 'wb') as f8:\n",
    "        np.savetxt(f8, [R_min])\n",
    "    toc = time.clock()\n",
    "    print '(J,K) = ' + str((J,K)) + ' took ' + str((toc-tic)/60.0**2) + ' hours'\n",
    "    return v_mean"
   ]
  },
  {
   "cell_type": "markdown",
   "metadata": {},
   "source": [
    "### Do simulation and record data \n",
    "\n",
    "1. Can ignore the divide by zero error (I account for this in the function rhs_unit_vector) -- does anyone know a way to silence python's error messages?\n",
    "\n",
    "2. Note, it's not a good idea to stop simulation as its running, the multiprocessor doesn't respond well to it. In   particular, lots of thread get stuck (you can see these using the 'top' command at the terminal), and I have to kill them manually. The way I kill them is using \"pkill -f python\", but unfortunately this kills the kernel running the ipython notebook, so I have to restart that too!"
   ]
  },
  {
   "cell_type": "code",
   "execution_count": 16,
   "metadata": {},
   "outputs": [
    {
     "name": "stderr",
     "output_type": "stream",
     "text": [
      "swarmalators_funcs.py:30: RuntimeWarning: divide by zero encountered in divide\n",
      "  inverse_dist_sq = np.nan_to_num(1.0/((xd)**2 + (yd)**2))\n",
      "swarmalators_funcs.py:30: RuntimeWarning: divide by zero encountered in divide\n",
      "  inverse_dist_sq = np.nan_to_num(1.0/((xd)**2 + (yd)**2))\n",
      "swarmalators_funcs.py:30: RuntimeWarning: divide by zero encountered in divide\n",
      "  inverse_dist_sq = np.nan_to_num(1.0/((xd)**2 + (yd)**2))\n",
      "swarmalators_funcs.py:30: RuntimeWarning: divide by zero encountered in divide\n",
      "  inverse_dist_sq = np.nan_to_num(1.0/((xd)**2 + (yd)**2))\n",
      "swarmalators_funcs.py:30: RuntimeWarning: divide by zero encountered in divide\n",
      "  inverse_dist_sq = np.nan_to_num(1.0/((xd)**2 + (yd)**2))\n",
      "swarmalators_funcs.py:30: RuntimeWarning: divide by zero encountered in divide\n",
      "  inverse_dist_sq = np.nan_to_num(1.0/((xd)**2 + (yd)**2))\n"
     ]
    },
    {
     "name": "stdout",
     "output_type": "stream",
     "text": [
      "(J,K) = (0.20000000000000001, -0.20000000000000001) took 0.0504407144444 hours\n",
      "(J,K) = (0.20000000000000001, -0.60000000000000009) took 0.0471587166667 hours\n",
      "(J,K) = (0.20000000000000001, -0.5) took 0.1127833675 hours\n",
      "(J,K) = (0.20000000000000001, -0.70000000000000007) took 0.0445652644444 hours\n",
      "(J,K) = (0.20000000000000001, -0.30000000000000004) took 0.146383248056 hours\n",
      "(J,K) = (0.20000000000000001, -0.80000000000000004) took 0.0469103683333 hours\n",
      "(J,K) = (0.20000000000000001, 0.0) took 0.180501208056 hours\n",
      "(J,K) = (0.20000000000000001, -0.90000000000000002) took 0.0398722061111 hours\n",
      "(J,K) = (0.20000000000000001, -0.40000000000000002) took 0.232963881389 hours\n",
      "(J,K) = (0.20000000000000001, -0.10000000000000001) took 0.315886972222 hours\n",
      "(J,K) = (0.20000000000000001, -1.0) took 0.200775676389 hours\n"
     ]
    },
    {
     "name": "stderr",
     "output_type": "stream",
     "text": [
      "swarmalators_funcs.py:30: RuntimeWarning: divide by zero encountered in divide\n",
      "  inverse_dist_sq = np.nan_to_num(1.0/((xd)**2 + (yd)**2))\n",
      "swarmalators_funcs.py:30: RuntimeWarning: divide by zero encountered in divide\n",
      "  inverse_dist_sq = np.nan_to_num(1.0/((xd)**2 + (yd)**2))\n",
      "swarmalators_funcs.py:30: RuntimeWarning: divide by zero encountered in divide\n",
      "  inverse_dist_sq = np.nan_to_num(1.0/((xd)**2 + (yd)**2))\n",
      "swarmalators_funcs.py:30: RuntimeWarning: divide by zero encountered in divide\n",
      "  inverse_dist_sq = np.nan_to_num(1.0/((xd)**2 + (yd)**2))\n",
      "swarmalators_funcs.py:30: RuntimeWarning: divide by zero encountered in divide\n",
      "  inverse_dist_sq = np.nan_to_num(1.0/((xd)**2 + (yd)**2))\n",
      "swarmalators_funcs.py:30: RuntimeWarning: divide by zero encountered in divide\n",
      "  inverse_dist_sq = np.nan_to_num(1.0/((xd)**2 + (yd)**2))\n"
     ]
    },
    {
     "name": "stdout",
     "output_type": "stream",
     "text": [
      "(J,K) = (0.69999999999999996, 0.0) took 0.1842572125 hours\n",
      "(J,K) = (0.69999999999999996, -0.10000000000000001) took 0.531331865 hours\n",
      "(J,K) = (0.69999999999999996, -0.20000000000000001) took 0.640160951944 hours\n",
      "(J,K) = (0.69999999999999996, -0.80000000000000004) took 0.063416185 hours\n",
      "(J,K) = (0.69999999999999996, -0.90000000000000002) took 0.0922287666667 hours\n",
      "(J,K) = (0.69999999999999996, -1.0) took 0.0502588327778 hours\n",
      "(J,K) = (0.69999999999999996, -0.30000000000000004) took 1.20677232667 hours\n",
      "(J,K) = (0.69999999999999996, -0.70000000000000007) took 1.5383091325 hours\n",
      "(J,K) = (0.69999999999999996, -0.40000000000000002) took 2.229601805 hours\n",
      "(J,K) = (0.69999999999999996, -0.60000000000000009) took 2.47286405556 hours\n",
      "(J,K) = (0.69999999999999996, -0.5) took 2.72152252944 hours\n"
     ]
    }
   ],
   "source": [
    "from multiprocessing import Pool\n",
    "num_of_processes = 6\n",
    "#Ks = np.array([-i*0.1 for i in range(51)])\n",
    "#Js = np.array([0.2, 0.4, 0.6, 0.8, 1.0])\n",
    "Ks = np.array([-i*0.1 for i in range(11)])\n",
    "Js = np.array([0.2, 0.7])\n",
    "\n",
    "for J in Js:\n",
    "    #Set up parameters in right foramt\n",
    "    temp = np.full(len(Ks),J)\n",
    "    pars = zip(temp,Ks)\n",
    "    \n",
    "    #Do sims\n",
    "    workers = Pool(num_of_processes)  #create the workers\n",
    "    workers.map(func, pars)           #set them working!\n",
    "    workers.close()                   #close them once they're done\n",
    "    workers.join()"
   ]
  },
  {
   "cell_type": "markdown",
   "metadata": {},
   "source": [
    "### Read in and plot data\n",
    "\n",
    "1. Make sure you've set T large enough, so that transients have died. I found T ~ 500 to work. Sometimes had to go to T = 1000.\n",
    "2. Also, dt = 0.5 seems to be OK (but obviously need to check smaller values to be sure)"
   ]
  },
  {
   "cell_type": "code",
   "execution_count": 19,
   "metadata": {},
   "outputs": [
    {
     "data": {
      "image/png": "[encoded data removed]",
      "text/plain": [
       "<matplotlib.figure.Figure at 0x10ecf9e50>"
      ]
     },
     "metadata": {},
     "output_type": "display_data"
    }
   ],
   "source": [
    "# Which value of J do I wish to load in \n",
    "#J = 0.2\n",
    "J = 0.7\n",
    "\n",
    "#These will hold various values\n",
    "Sp, Sm, vm, Rmax, Rmin = [], [], [], [], []\n",
    "\n",
    "# Read in the data\n",
    "for K in Ks:\n",
    "    string =  'K_' + str(K) + '_J_' + str(J) + '_N_' + str(n) + '_T_' + str(T) + '_dt_' + str(dt) +  '.csv'\n",
    "    Sp1 = np.loadtxt('data/S_plus_' + string)\n",
    "    Sm1 = np.loadtxt('data/S_minus_' + string)\n",
    "    v_mean = np.loadtxt('data/v_mean_' + string)\n",
    "    R_max1 = np.loadtxt('data/R_max_' + string)\n",
    "    R_min1 = np.loadtxt('data/R_min_' + string)\n",
    "\n",
    "    Sp.append(Sp1);Sm.append(Sm1);vm.append(v_mean);Rmax.append(R_max1);Rmin.append(R_min1)\n",
    "\n",
    "\n",
    "#Convert to numpy arrays so I can read them.\n",
    "Sp,Sp,vm,Rmax,Rmin = np.array(Sp), np.array(Sp), np.array(vm), np.array(Rmax), np.array(Rmin)    \n",
    "#Plot\n",
    "fig = plt.figure(figsize=(12,10))\n",
    "plt.subplot(221)\n",
    "plt.title('[J,N] = ' + str([J,n]), fontsize=18)\n",
    "for i in range(len(Sm)):\n",
    "    plt.subplot(221)\n",
    "    plt.plot(-Ks,Sm,'ko-')\n",
    "    plt.ylim([0,1.0]);\n",
    "    plt.xlabel('-K',fontsize=18);plt.ylabel('$S^-$', fontsize=15)\n",
    "    plt.vlines(1.2*J,0,1,color='red')\n",
    "plt.subplot(222)\n",
    "plt.title('[J,N] = ' + str([J,n]), fontsize=18)\n",
    "for i in range(len(Sp)):\n",
    "    plt.plot(-Ks,Sp,'ko-')\n",
    "    plt.ylim([0,1.0]);\n",
    "    plt.xlabel('-K',fontsize=18);plt.ylabel('$S^+$',fontsize=20)\n",
    "    plt.vlines(1.2*J,0,1,color='red')\n",
    "plt.subplot(223)\n",
    "for i in range(len(vm)):\n",
    "    plt.plot(-Ks,vm / np.max(vm),'ko-')\n",
    "    plt.xlabel('-K',fontsize=18);plt.ylabel('$ \\\\langle v \\\\rangle$', fontsize=18)\n",
    "    plt.vlines(1.2*J,0,1,color='red')\n",
    "plt.subplot(224)\n",
    "for i in range(len(Rmax)):\n",
    "    plt.plot(-Ks,Rmax,'ko-');plt.plot(-Ks,Rmin,'bo-')\n",
    "    plt.xlabel('-K',fontsize=18);plt.legend(['$R_{max}$', '$R_{min}$'], fontsize=18)\n",
    "    plt.vlines(1.2*J,0,np.max(Rmax),color='red')"
   ]
  },
  {
   "cell_type": "markdown",
   "metadata": {
    "collapsed": true
   },
   "source": [
    "$J = 0.7$ works well, but $J = 0.2$, not so much."
   ]
  }
 ],
 "metadata": {
  "kernelspec": {
   "display_name": "Python 3",
   "language": "python",
   "name": "python3"
  },
  "language_info": {
   "codemirror_mode": {
    "name": "ipython",
    "version": 3
   },
   "file_extension": ".py",
   "mimetype": "text/x-python",
   "name": "python",
   "nbconvert_exporter": "python",
   "pygments_lexer": "ipython3",
   "version": "3.7.1"
  }
 },
 "nbformat": 4,
 "nbformat_minor": 2
}
