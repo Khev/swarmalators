{
 "cells": [
  {
   "cell_type": "markdown",
   "metadata": {},
   "source": [
    "# Introduction \n",
    "\n",
    "Testing some results here\n",
    "\n",
    "### Methods"
   ]
  },
  {
   "cell_type": "code",
   "execution_count": 1,
   "metadata": {},
   "outputs": [
    {
     "ename": "ModuleNotFoundError",
     "evalue": "No module named 'scipy'",
     "output_type": "error",
     "traceback": [
      "\u001b[0;31m---------------------------------------------------------------------------\u001b[0m",
      "\u001b[0;31mModuleNotFoundError\u001b[0m                       Traceback (most recent call last)",
      "\u001b[0;32m<ipython-input-1-89d8a0372c2d>\u001b[0m in \u001b[0;36m<module>\u001b[0;34m\u001b[0m\n\u001b[1;32m      1\u001b[0m \u001b[0;32mimport\u001b[0m \u001b[0mnumpy\u001b[0m \u001b[0;32mas\u001b[0m \u001b[0mnp\u001b[0m\u001b[0;34m\u001b[0m\u001b[0;34m\u001b[0m\u001b[0m\n\u001b[1;32m      2\u001b[0m \u001b[0;34m\u001b[0m\u001b[0m\n\u001b[0;32m----> 3\u001b[0;31m \u001b[0;32mfrom\u001b[0m \u001b[0mscipy\u001b[0m\u001b[0;34m.\u001b[0m\u001b[0mintegrate\u001b[0m \u001b[0;32mimport\u001b[0m \u001b[0modeint\u001b[0m\u001b[0;34m\u001b[0m\u001b[0;34m\u001b[0m\u001b[0m\n\u001b[0m\u001b[1;32m      4\u001b[0m \u001b[0;34m\u001b[0m\u001b[0m\n\u001b[1;32m      5\u001b[0m \u001b[0;32mdef\u001b[0m \u001b[0mrhs\u001b[0m\u001b[0;34m(\u001b[0m\u001b[0mz\u001b[0m\u001b[0;34m,\u001b[0m\u001b[0mt\u001b[0m\u001b[0;34m,\u001b[0m\u001b[0mJ\u001b[0m\u001b[0;34m,\u001b[0m\u001b[0mK\u001b[0m\u001b[0;34m,\u001b[0m\u001b[0mn\u001b[0m\u001b[0;34m,\u001b[0m\u001b[0mnu\u001b[0m\u001b[0;34m,\u001b[0m\u001b[0momega\u001b[0m\u001b[0;34m)\u001b[0m\u001b[0;34m:\u001b[0m\u001b[0;34m\u001b[0m\u001b[0;34m\u001b[0m\u001b[0m\n",
      "\u001b[0;31mModuleNotFoundError\u001b[0m: No module named 'scipy'"
     ]
    }
   ],
   "source": [
    "import numpy as np\n",
    "\n",
    "from scipy.integrate import odeint\n",
    "\n",
    "def rhs(z,t,J,K,n,nu,omega):\n",
    "    \n",
    "    x = z[:n]\n",
    "    theta = z[n:]\n",
    "    \n",
    "    xd = x[:, np.newaxis] - x\n",
    "    yd = y[:, np.newaxis] - y\n",
    "    theta_d = theta[:, np.newaxis] - theta\n",
    "    \n",
    "    x_rhs = -J*np.nan_to_num(np.sin(xd)*np.cos(theta_d)) \n",
    "    y_rhs = -K*np.nan_to_num(np.sin(theta_d)*np.cos(xd)) \n",
    "    \n",
    "    x_next = np.nan_to_num( nu + (1/float(n))*np.sum((1-np.eye(xd.shape[0]))*x_rhs, axis=1))    \n",
    "    theta_next = np.nan_to_num(omega +  (1/float(n))*np.sum((1-np.eye(xd.shape[0]))*theta_rhs, axis=1))\n",
    "    \n",
    "    \n",
    "def unpack(sols,n):\n",
    "    \"\"\" I store the positions and phases of each swarmalator as a 3d vector z.\n",
    "        Then the state vector for the systems is z[t][n]. This functions\n",
    "        \"unpacks\" z[t][n] into x[t][n], y[t][n], theta[t][n]\n",
    "    \"\"\"\n",
    "\n",
    "    T = len(sols)     #num timesteps\n",
    "    x = np.array(np.zeros((T,n)))\n",
    "    theta = np.array(np.zeros((T,n)))\n",
    "    \n",
    "    for t in range(T):\n",
    "        x[t] = sols[t, 0:n]\n",
    "        theta[t] = sols[t, n:2*n]\n",
    "    \n",
    "    return [x,theta]"
   ]
  },
  {
   "cell_type": "markdown",
   "metadata": {},
   "source": [
    "### Do simulation"
   ]
  },
  {
   "cell_type": "code",
   "execution_count": null,
   "metadata": {},
   "outputs": [],
   "source": [
    "# Simulation parameters\n",
    "a, dt, T, n, L  = 1, 0.5, 500, 100, 1   # surprisingly, dt = 0.5 seems to work OK (for prelimiart)\n",
    "np.random.seed(0)\n",
    "x0 = np.random.uniform(-L,L,n);y0=np.random.uniform(-L,L,n);theta0 = np.random.uniform(-np.pi,np.pi,n)\n",
    "omega = np.zeros(n)\n",
    "J, K = 1.0, 3.5\n",
    "z0 = [x0, y0, theta0]\n",
    "t = [dt*i for i in range(int(T/dt))]\n",
    "\n",
    "#Do simulation\n",
    "tic = time.clock()\n",
    "z0 = np.array([x0,y0,theta0])\n",
    "z0 = z0.flatten()\n",
    "sols = odeint(f.rhs_unit_vector, z0, t, args=(J,K,n,omega))\n",
    "x, y, theta = f.unpack(sols,n)\n",
    "\n",
    "# Collect auxiliary info, like the order parameter gamma, and S\n",
    "r, phi = f.cart_to_polar(x,y)\n",
    "gamma = f.find_gamma(phi)\n",
    "v = f.find_vel_t(x,y,theta,dt)\n",
    "transient_index = int(0.9*x.shape[0])\n",
    "v_mean = np.mean([np.mean(v[t,:]) for t in range(transient_index,v.shape[0])])\n",
    "S_plus = np.mean(np.abs(f.find_W_plus(x,y,theta))[transient_index:-1])\n",
    "S_minus = np.mean(np.abs(f.find_W_minus(x,y,theta))[transient_index:-1])\n",
    "\n",
    "#Plot at end\n",
    "f.scatter_t(x,y,theta,-1)"
   ]
  }
 ],
 "metadata": {
  "kernelspec": {
   "display_name": "Python 3",
   "language": "python",
   "name": "python3"
  },
  "language_info": {
   "codemirror_mode": {
    "name": "ipython",
    "version": 3
   },
   "file_extension": ".py",
   "mimetype": "text/x-python",
   "name": "python",
   "nbconvert_exporter": "python",
   "pygments_lexer": "ipython3",
   "version": "3.7.3"
  }
 },
 "nbformat": 4,
 "nbformat_minor": 2
}
